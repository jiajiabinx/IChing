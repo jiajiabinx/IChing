{
 "cells": [
  {
   "cell_type": "code",
   "execution_count": 2,
   "metadata": {},
   "outputs": [
    {
     "name": "stderr",
     "output_type": "stream",
     "text": [
      "/Users/blackbear/IChing/.venv/lib/python3.10/site-packages/sentence_transformers/cross_encoder/CrossEncoder.py:11: TqdmExperimentalWarning: Using `tqdm.autonotebook.tqdm` in notebook mode. Use `tqdm.tqdm` instead to force console mode (e.g. in jupyter console)\n",
      "  from tqdm.autonotebook import tqdm, trange\n"
     ]
    },
    {
     "data": {
      "text/plain": [
       "True"
      ]
     },
     "execution_count": 2,
     "metadata": {},
     "output_type": "execute_result"
    }
   ],
   "source": [
    "# scrape wikipeida\n",
    "from bs4 import BeautifulSoup\n",
    "from sentence_transformers import SentenceTransformer,util\n",
    "import torch\n",
    "import faiss\n",
    "import textwrap\n",
    "from dotenv import load_dotenv\n",
    "from tqdm import tqdm\n",
    "import os\n",
    "import pickle\n",
    "import anthropic\n",
    "from glob import glob\n",
    "import numpy as np\n",
    "load_dotenv()"
   ]
  },
  {
   "cell_type": "code",
   "execution_count": 3,
   "metadata": {},
   "outputs": [],
   "source": [
    "client = anthropic.Anthropic(\n",
    "    # defaults to os.environ.get(\"ANTHROPIC_API_KEY\")\n",
    "    api_key=os.environ[\"CLAUDE_API_KEY\"],\n",
    ")\n"
   ]
  },
  {
   "cell_type": "markdown",
   "metadata": {},
   "source": [
    "let's get all the universities' alumni"
   ]
  },
  {
   "cell_type": "code",
   "execution_count": 10,
   "metadata": {},
   "outputs": [
    {
     "name": "stderr",
     "output_type": "stream",
     "text": [
      "/Users/blackbear/IChing/.venv/lib/python3.10/site-packages/transformers/tokenization_utils_base.py:1601: FutureWarning: `clean_up_tokenization_spaces` was not set. It will be set to `True` by default. This behavior will be depracted in transformers v4.45, and will be then set to `False` by default. For more details check this issue: https://github.com/huggingface/transformers/issues/31884\n",
      "  warnings.warn(\n"
     ]
    }
   ],
   "source": [
    "model = SentenceTransformer(\"sentence-transformers/all-MiniLM-L6-v2\")"
   ]
  },
  {
   "cell_type": "markdown",
   "metadata": {},
   "source": [
    "storing all the alumni's wiki pages"
   ]
  },
  {
   "cell_type": "code",
   "execution_count": 4,
   "metadata": {},
   "outputs": [],
   "source": [
    "\n",
    "n_downloaded_lists = len(glob(\"data/*.obj\"))"
   ]
  },
  {
   "cell_type": "code",
   "execution_count": 5,
   "metadata": {},
   "outputs": [],
   "source": [
    "with open('manon-audebert.md','r') as file:\n",
    "    input =  file.read()\n",
    "    \n",
    "message = client.messages.create(\n",
    "    model=\"claude-3-5-sonnet-20240620\",\n",
    "    max_tokens=1000,\n",
    "    temperature=0,\n",
    "    system=\"I am trying to do a semantic comparison between two people's bio. The reference bio would be Wikipedia articles on people broken down into top-level sections (career, personal life, education, etc.). Users will input their bio with the details. What you will need to do is to rearrange the bio into similar sections, rewrite the bio to match Wikipedia style writing for each section, and add five astrisks after each section ***** (keep the title and the body of the section together in one section) .  You don't need to respond with pleasantry. \\n \",\n",
    "    messages=[\n",
    "        {\n",
    "            \"role\": \"user\",\n",
    "            \"content\": [\n",
    "                {\n",
    "                    \"type\": \"text\",\n",
    "                    \"text\": input\n",
    "                }\n",
    "            ]\n",
    "        }\n",
    "    ]\n",
    ")\n",
    "sectioned = message.content[0].text.split(\"*****\")\n",
    "#slighed cleaning of the sections\n",
    "cleaned_sections = [x for x in sectioned if len(x)>3]\n",
    "with open('temp.pkl',\"wb\") as file:\n",
    "    pickle.dump(cleaned_sections,file)"
   ]
  },
  {
   "cell_type": "code",
   "execution_count": 6,
   "metadata": {},
   "outputs": [
    {
     "data": {
      "text/plain": [
       "['Early Life and Education\\n\\nManon Audebert pursued her undergraduate studies at Pomona College in Claremont, California, where she earned a Bachelor of Arts in Computer Science with a minor in Mathematics from 2014 to 2018. During her time at Pomona, Audebert demonstrated leadership skills as the captain of the NCAA Division III Pomona-Pitzer Varsity Swim and Dive team in her senior year, having been a member of the team throughout her college career.\\n\\nAudebert\\'s academic interests extended beyond her coursework. In 2017, she presented a poster at the Grace Hopper Conference on \"The Role of Gender in CS Classwork Collaboration and its Impact on Women\\'s Success,\" showcasing her early engagement with issues of gender diversity in technology.\\n\\nFollowing her undergraduate studies, Audebert continued her education at Columbia University in New York City. She is currently pursuing two advanced degrees simultaneously: a Master of Business Administration with a focus on Technology and Climate at Columbia Business School, and a Master of Science in Engineering and Applied Science with a concentration in Climate & Sustainability at Columbia Engineering. Both programs are scheduled for completion in 2025.\\n\\n',\n",
       " \"\\n\\nCareer\\n\\nManon Audebert's professional career began at Amazon Web Services (AWS) in Seattle, Washington, where she worked as a Software Development Engineer from 2018 to 2021. She started as an entry-level engineer in the Identity and Access Management team, where she made significant contributions to improving the operational efficiency and security of AWS enterprise customer logins. Her work included implementing throttling mechanisms to protect against DDOS attacks and handling increased traffic due to the Covid-19 pandemic.\\n\\nIn 2020, Audebert was promoted to Software Development Engineer II within AWS. In this role, she led the implementation of a new authentication platform for AWS SSO logins, improving both user experience and security. She also demonstrated leadership skills by mentoring new engineers and coordinating successful traffic migrations.\\n\\nIn 2021, Audebert transitioned to Amazon Fresh, where she continued as a Software Development Engineer II, focusing on grocery supply chain and inventory management. Her work in this role was particularly impactful, as she led projects aimed at reducing food waste and improving efficiency in the grocery supply chain. Notable achievements include developing a machine learning model for grocery shelf-life predictions and launching mark-downs for near-expiry items in Europe, resulting in significant cost savings and waste reduction.\\n\\nAs of 2023, Audebert has taken on an internship role as an Impact Strategy Analyst at Soros Fund Management in New York. In this position, she is working on analyzing and optimizing the fund's portfolio with respect to emissions intensity and ethical sourcing, demonstrating her growing interest and expertise in sustainable finance and climate-related business strategies.\\n\\n\",\n",
       " '\\n\\nSkills and Certifications\\n\\nThroughout her career, Manon Audebert has developed a diverse set of technical skills. She is proficient in programming languages such as Java, Python, and TypeScript, and has extensive experience with AWS Cloud Computing and SQL. Her software skills include Jupyter and Microsoft Excel, and she is well-versed in CAD software.\\n\\nAudebert has also acquired certifications that complement her technical skills. Notably, she holds a Stanford Machine Learning Certification from Coursera, indicating her expertise in this rapidly evolving field of computer science.\\n\\nIn addition to her technical abilities, Audebert is skilled in Agile methodology and technical writing. She is also fluent in French, adding a valuable language skill to her professional repertoire.\\n\\n',\n",
       " '\\n\\nAwards and Recognition\\n\\nManon Audebert\\'s academic and professional achievements have been recognized through various awards and honors. At Columbia Business School, she was named a Columbia Fellow and a Three Cairns Fellow, the latter of which involves serving as a consultant for the World Economic Forum in 2023-24.\\n\\nIn her professional career at Amazon, Audebert received the \"Deliver Results\" award at an All-Hands meeting, chosen from among approximately 150 people. This recognition was for her leadership in implementing a machine learning model and API for grocery shelf-life predictions, a project that met senior VP-level goals and timelines.\\n\\n',\n",
       " \"\\n\\nPersonal Life and Interests\\n\\nWhile specific details about Manon Audebert's personal life are not provided, her professional and academic pursuits offer insights into her interests and values. Her focus on climate and sustainability in her graduate studies, coupled with her work in sustainable finance and efforts to reduce food waste, suggest a strong personal commitment to environmental issues.\\n\\nAudebert's involvement in collegiate athletics as a\"]"
      ]
     },
     "execution_count": 6,
     "metadata": {},
     "output_type": "execute_result"
    }
   ],
   "source": [
    "with open('temp.pkl','rb') as file:\n",
    "    cleaned_sections= pickle.load(file)\n",
    "cleaned_sections"
   ]
  },
  {
   "cell_type": "code",
   "execution_count": 7,
   "metadata": {},
   "outputs": [],
   "source": [
    "class EssaySearchEngine:\n",
    "    def __init__(self, embedding_dim, device='cuda' if torch.cuda.is_available() else 'cpu'):\n",
    "        self.embedding_dim = embedding_dim\n",
    "        self.device = device\n",
    "        self.embeddings = None\n",
    "        self.index = faiss.IndexFlatIP(self.embedding_dim)\n",
    "        self.metadata = []  # To store any associated metadata with embeddings\n",
    "        self.model=SentenceTransformer(\"sentence-transformers/all-MiniLM-L6-v2\")\n",
    "\n",
    "    def batch_add_embedding_list(self, embedding_list, metadata=None,batch_size=32): \n",
    "        for i in tqdm(range(0, len(embedding_list), batch_size), desc=\"Adding content\"):\n",
    "            batch = embedding_list[i:i+batch_size]\n",
    "            embeddings = batch.to(self.device)\n",
    "            cpu_embeddings = embeddings.cpu().numpy().astype('float32')\n",
    "            self.index.add(cpu_embeddings)\n",
    "            \n",
    "            if metadata:\n",
    "                self.metadata.extend(metadata[i:i+batch_size])\n",
    "            else:\n",
    "                self.metadata.extend(range(i, min(i+batch_size, len(embedding_list))))         \n",
    "\n",
    "    def search(self, content, k=5):\n",
    "        query_embedding = self.model.encode(content, convert_to_tensor=True)\n",
    "        query_tensor = torch.tensor(query_embedding, device=self.device).unsqueeze(0)\n",
    "        \n",
    "        # Convert query to CPU and numpy for FAISS\n",
    "        cpu_query = query_tensor.cpu().numpy().astype('float32')\n",
    "        \n",
    "        D, I = self.index.search(cpu_query, k)\n",
    "        print(D,I)\n",
    "        results = [(self.metadata[i] if self.metadata else i, score) for i, score in zip(I[0], D[0])]\n",
    "        return results\n",
    "    \n",
    "    def batch_search(self, content_list, k=5, batch_size=32):\n",
    "        all_results = []\n",
    "        for i in tqdm(range(0, len(content_list), batch_size), desc=\"Searching\"):\n",
    "            batch = content_list[i:i+batch_size]\n",
    "            query_embeddings = self.model.encode(batch, convert_to_tensor=True, device=self.device)\n",
    "            batch_results = self._batch_search_embeddings(query_embeddings, k)\n",
    "            all_results.extend(batch_results)\n",
    "        return all_results\n",
    "    \n",
    "    def _batch_search_embeddings(self, query_embeddings, k):\n",
    "        cpu_queries = query_embeddings.cpu().numpy().astype('float32')\n",
    "        if cpu_queries.ndim == 1:\n",
    "            cpu_queries = cpu_queries.reshape(1, -1)\n",
    "        D, I = self.index.search(cpu_queries, k)\n",
    "        \n",
    "        results = []\n",
    "        for indices, distances in zip(I, D):\n",
    "            result = [(self.metadata[i] if self.metadata else i, score) for i, score in zip(indices, distances)]\n",
    "            results.append(result)\n",
    "        \n",
    "        return results"
   ]
  },
  {
   "cell_type": "code",
   "execution_count": 8,
   "metadata": {},
   "outputs": [
    {
     "data": {
      "text/plain": [
       "146762"
      ]
     },
     "execution_count": 8,
     "metadata": {},
     "output_type": "execute_result"
    }
   ],
   "source": [
    "\n",
    "file_path =\"data/*.obj\" \n",
    "device='cuda' if torch.cuda.is_available() else 'cpu'\n",
    "embeddings= []\n",
    "meta_data=[]\n",
    "files = glob(file_path)\n",
    "\n",
    "index = faiss.IndexFlatIP(384)\n",
    "\n",
    "for file in files:\n",
    "    meta_data_list = []\n",
    "    with open(file,'rb') as file:\n",
    "        objs= pickle.load(file)\n",
    "        for o in objs:     \n",
    "            n_sections=len(o['sections_embedded_tensor'])\n",
    "            obj_meta_data = [o['wiki_page']]*n_sections\n",
    "            cpu_embeddings = o['sections_embedded_tensor'].to(device).cpu().numpy().astype('float32')\n",
    "            embeddings.extend(cpu_embeddings)\n",
    "            if len(cpu_embeddings)== 0: continue\n",
    "            index.add(cpu_embeddings)\n",
    "            meta_data.extend(obj_meta_data)\n",
    "\n",
    "        \n",
    "len(embeddings)\n"
   ]
  },
  {
   "cell_type": "code",
   "execution_count": 11,
   "metadata": {},
   "outputs": [],
   "source": [
    "results = []\n",
    "for section in cleaned_sections:\n",
    "    cpu_queries = model.encode([section],convert_to_tensor=True,device=device).cpu().numpy().astype('float32')\n",
    "    D, I = index.search(cpu_queries, 2)\n",
    "    results.extend([[(meta_data[i] if meta_data else i, score) for i, score in zip(indices, distances)] \n",
    "                   for indices, distances in zip(I, D)])\n"
   ]
  },
  {
   "cell_type": "code",
   "execution_count": 12,
   "metadata": {},
   "outputs": [
    {
     "data": {
      "text/plain": [
       "['Early Life and Education\\n\\nManon Audebert pursued her undergraduate studies at Pomona College in Claremont, California, where she earned a Bachelor of Arts in Computer Science with a minor in Mathematics from 2014 to 2018. During her time at Pomona, Audebert demonstrated leadership skills as the captain of the NCAA Division III Pomona-Pitzer Varsity Swim and Dive team in her senior year, having been a member of the team throughout her college career.\\n\\nAudebert\\'s academic interests extended beyond her coursework. In 2017, she presented a poster at the Grace Hopper Conference on \"The Role of Gender in CS Classwork Collaboration and its Impact on Women\\'s Success,\" showcasing her early engagement with issues of gender diversity in technology.\\n\\nFollowing her undergraduate studies, Audebert continued her education at Columbia University in New York City. She is currently pursuing two advanced degrees simultaneously: a Master of Business Administration with a focus on Technology and Climate at Columbia Business School, and a Master of Science in Engineering and Applied Science with a concentration in Climate & Sustainability at Columbia Engineering. Both programs are scheduled for completion in 2025.\\n\\n',\n",
       " \"\\n\\nCareer\\n\\nManon Audebert's professional career began at Amazon Web Services (AWS) in Seattle, Washington, where she worked as a Software Development Engineer from 2018 to 2021. She started as an entry-level engineer in the Identity and Access Management team, where she made significant contributions to improving the operational efficiency and security of AWS enterprise customer logins. Her work included implementing throttling mechanisms to protect against DDOS attacks and handling increased traffic due to the Covid-19 pandemic.\\n\\nIn 2020, Audebert was promoted to Software Development Engineer II within AWS. In this role, she led the implementation of a new authentication platform for AWS SSO logins, improving both user experience and security. She also demonstrated leadership skills by mentoring new engineers and coordinating successful traffic migrations.\\n\\nIn 2021, Audebert transitioned to Amazon Fresh, where she continued as a Software Development Engineer II, focusing on grocery supply chain and inventory management. Her work in this role was particularly impactful, as she led projects aimed at reducing food waste and improving efficiency in the grocery supply chain. Notable achievements include developing a machine learning model for grocery shelf-life predictions and launching mark-downs for near-expiry items in Europe, resulting in significant cost savings and waste reduction.\\n\\nAs of 2023, Audebert has taken on an internship role as an Impact Strategy Analyst at Soros Fund Management in New York. In this position, she is working on analyzing and optimizing the fund's portfolio with respect to emissions intensity and ethical sourcing, demonstrating her growing interest and expertise in sustainable finance and climate-related business strategies.\\n\\n\",\n",
       " '\\n\\nSkills and Certifications\\n\\nThroughout her career, Manon Audebert has developed a diverse set of technical skills. She is proficient in programming languages such as Java, Python, and TypeScript, and has extensive experience with AWS Cloud Computing and SQL. Her software skills include Jupyter and Microsoft Excel, and she is well-versed in CAD software.\\n\\nAudebert has also acquired certifications that complement her technical skills. Notably, she holds a Stanford Machine Learning Certification from Coursera, indicating her expertise in this rapidly evolving field of computer science.\\n\\nIn addition to her technical abilities, Audebert is skilled in Agile methodology and technical writing. She is also fluent in French, adding a valuable language skill to her professional repertoire.\\n\\n',\n",
       " '\\n\\nAwards and Recognition\\n\\nManon Audebert\\'s academic and professional achievements have been recognized through various awards and honors. At Columbia Business School, she was named a Columbia Fellow and a Three Cairns Fellow, the latter of which involves serving as a consultant for the World Economic Forum in 2023-24.\\n\\nIn her professional career at Amazon, Audebert received the \"Deliver Results\" award at an All-Hands meeting, chosen from among approximately 150 people. This recognition was for her leadership in implementing a machine learning model and API for grocery shelf-life predictions, a project that met senior VP-level goals and timelines.\\n\\n',\n",
       " \"\\n\\nPersonal Life and Interests\\n\\nWhile specific details about Manon Audebert's personal life are not provided, her professional and academic pursuits offer insights into her interests and values. Her focus on climate and sustainability in her graduate studies, coupled with her work in sustainable finance and efforts to reduce food waste, suggest a strong personal commitment to environmental issues.\\n\\nAudebert's involvement in collegiate athletics as a\"]"
      ]
     },
     "execution_count": 12,
     "metadata": {},
     "output_type": "execute_result"
    }
   ],
   "source": [
    "cleaned_sections"
   ]
  },
  {
   "cell_type": "code",
   "execution_count": 13,
   "metadata": {},
   "outputs": [
    {
     "data": {
      "text/plain": [
       "[[(AnitaB.org (id: 32234869, ns: 0), 0.5434913),\n",
       "  (Esther Brimmer (id: 3851380, ns: 0), 0.5392928)],\n",
       " [(Alteryx (id: 44133735, ns: 0), 0.43991828),\n",
       "  (Google (id: 1092923, ns: 0), 0.43822727)],\n",
       " [(Maria Klawe (id: 2976395, ns: 0), 0.45175576),\n",
       "  (Shannon Vallor (id: 53394084, ns: 0), 0.42521742)],\n",
       " [(Albert Einstein World Award of Science (id: 416820, ns: 0), 0.4937371),\n",
       "  (Daniel Lubetzky (id: 34857443, ns: 0), 0.49162686)],\n",
       " [(Margaret A. Tolbert (id: 75643084, ns: 0), 0.475733),\n",
       "  (Nico Young (id: 68822842, ns: 0), 0.47561672)]]"
      ]
     },
     "execution_count": 13,
     "metadata": {},
     "output_type": "execute_result"
    }
   ],
   "source": [
    "results"
   ]
  },
  {
   "cell_type": "code",
   "execution_count": 19,
   "metadata": {},
   "outputs": [
    {
     "data": {
      "text/plain": [
       "[Section: Athletic career (1):\n",
       " \n",
       " Subsections (2):\n",
       " Section: High school career (2):\n",
       " Young ran for Newbury Park High School in Newbury Park, California. He broke the 3 mile cross country American high school record at the 2019 Woodbridge Invitational, running a time of 13:39.7, and lowered the American high school indoor 3000m record (previously held by Drew Hunter), running a time of 7:56.91. At the 2019 Nike Cross Nationals, Young won the race and set the course record with a time of 14:52 and led Newbury Park to the team victory. Young was named the 2019-20 XC National Gatorade Player of the Year and the 2019-20 Track and Field National Gatorade Player of the Year.  He was the first to sweep both awards in the same season. His brother Leo picked up the California version of the Cross Country award in 2022.  His senior season in 2020 was wiped out due to the COVID-19 pandemic.  His season amounted to time trials with his brothers and teammates.\n",
       " Subsections (0):\n",
       " \n",
       " Section: Collegiate career (2):\n",
       " \n",
       " Subsections (4):\n",
       " Section: 2020–2021 (3):\n",
       " During the 2020 cross country season, Young placed 4th place at the 2020 NCAA Division I Cross Country Championships with a time of 29:58.3 at the 10 km distance, the highest a true freshman has placed since 2013. He set an American junior record in the 5000m at the 2021 Drake Relays with a time of 13:24.26. With this time he qualified for the 2021 U.S. Olympic Trials, where he ran 13:35.94 and finished 9th.\n",
       " Subsections (0):\n",
       " \n",
       " Section: 2021–2022 (3):\n",
       " Later that year, Young placed 11th at the 2021 NCAA Division I Cross Country Championships with a time of 28:57.5, but he also would lower the American junior record in the indoor 5000m with a time of 13:22.59 at the BU Season Opener on December 4, 2021.\n",
       " In 2022, Young placed 3rd in the 5000m and 7th in the 3000m at the 2022 NCAA Division I Indoor Track and Field Championships.\n",
       " On May 6, Young ran 13:11.30 at the Sound Running Track Meet in San Juan Capistrano, which is the fastest 5000m ever run by an American teenager and the 3rd fastest outdoor 5000m in collegiate history. He would end up placing 3rd in the 5000m at the 2022 NCAA Division I Outdoor Track and Field Championships. At the 2022 USA Outdoor Track and Field Championships, Young placed 8th in the 5000m, running a time of 13:19.15.\n",
       " Subsections (0):\n",
       " \n",
       " Section: 2022–2023 (3):\n",
       " During the 2022 cross country season, Young would set a 10 km personal best of 28:01 at the NCAA Division I Mountain Region Cross Country Championships on November 11, 2022, before placing 2nd at the 2022 NCAA Division I Cross Country Championships with a time of 28:44.5. Two weeks later, Young lowered his indoor 5000m personal best to 13:15.25 at the BU Season Opener on December 3, 2022, finishing 5th in a field of collegiate and professional runners.\n",
       " Subsections (0):\n",
       " \n",
       " Section: 2023–2024 (3):\n",
       " Young placed 6th at the 2023 NCAA Division I Cross Country Championships with a time of 29:04.2.\n",
       " On January 26, 2024, at Boston University's John Thomas Terrier Classic, Young placed 2nd to Adrian Wildschutt's 12:56.76 in the men's 5000m White Heat, with a new personal best time of 12:57.14, defeating the 13:00.00 barrier, setting a new NCAA record, and hitting the Paris 2024 Olympics' qualifying standard of 13:05.00.\n",
       " On March 8, Young won his first NCAA individual title at the 2024 NCAA Division I Indoor Track and Field Championships over 5000m. His last three 200m laps were recorded at 28.47, 27.10, and 27.29 seconds, respectively. He followed up the victory the next day with a NCAA title at 3000m in 7:41.01. North Carolina's Parker Wolfe finished second in both events, but was not within a second of Young in either.\n",
       " Just one week after his double-gold performance at The Track at New Balance in Boston, Young made his debut in the 10,000 m on the track, competing at The TEN in San Juan Capistrano with the goal of achieving the Olympic qualifying standard of 27:00.00. Finishing in second place behind American-record holder Grant Fisher, Young broke the collegiate record of 27:08.49 set by Sam Chelanga, and hit the Olympic standard, running a time of 26:52.72. Later that month, on March 25, Young announced he had signed an NIL deal with adidas.\n",
       " Two weeks after the NCAA Outdoor Track and Field Championships, where he placed second in the 5000m to Parker Wolfe, Young competed in the 10,000m at the Olympic trials. He out-kicked Drew Hunter to place third and qualify for the Olympic Games. At the Olympics, he placed 12th in the 10,000 m in 26:58.11.\n",
       " Subsections (0):,\n",
       " Section: Personal achievements (1):\n",
       " \n",
       " Subsections (2):\n",
       " Section: High school personal bests (2):\n",
       " \n",
       " Subsections (0):\n",
       " \n",
       " Section: College personal bests (2):\n",
       " \n",
       " Subsections (0):,\n",
       " Section: References (1):\n",
       " \n",
       " Subsections (0):,\n",
       " Section: External links (1):\n",
       " Nico Young at World Athletics\n",
       " Nico Young at www.USATF.org\n",
       " Nico Young at Team USA\n",
       " Nico Young profile at TFRRS\n",
       " Nico Young profile at Milesplit.com\n",
       " Nico Young profile at Northern Arizona Lumberjacks track and field\n",
       " Nico Young profile at Northern Arizona Lumberjacks\n",
       " Subsections (0):]"
      ]
     },
     "execution_count": 19,
     "metadata": {},
     "output_type": "execute_result"
    }
   ],
   "source": [
    "results[4][1][0].sections"
   ]
  }
 ],
 "metadata": {
  "kernelspec": {
   "display_name": ".venv",
   "language": "python",
   "name": "python3"
  },
  "language_info": {
   "codemirror_mode": {
    "name": "ipython",
    "version": 3
   },
   "file_extension": ".py",
   "mimetype": "text/x-python",
   "name": "python",
   "nbconvert_exporter": "python",
   "pygments_lexer": "ipython3",
   "version": "3.10.11"
  }
 },
 "nbformat": 4,
 "nbformat_minor": 2
}
